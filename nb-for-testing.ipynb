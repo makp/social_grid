{
 "cells": [
  {
   "cell_type": "markdown",
   "id": "statutory-traffic",
   "metadata": {},
   "source": [
    "# Setup"
   ]
  },
  {
   "cell_type": "markdown",
   "id": "pediatric-polish",
   "metadata": {},
   "source": [
    "## Load some modules"
   ]
  },
  {
   "cell_type": "code",
   "execution_count": 16,
   "id": "understanding-combination",
   "metadata": {},
   "outputs": [],
   "source": [
    "import numpy as np\n",
    "import matplotlib.pyplot as plt"
   ]
  },
  {
   "cell_type": "code",
   "execution_count": 17,
   "id": "obvious-lingerie",
   "metadata": {},
   "outputs": [],
   "source": [
    "%matplotlib inline"
   ]
  },
  {
   "cell_type": "markdown",
   "id": "buried-transsexual",
   "metadata": {},
   "source": [
    "## Create initial CA"
   ]
  },
  {
   "cell_type": "code",
   "execution_count": 18,
   "id": "reported-consent",
   "metadata": {},
   "outputs": [],
   "source": [
    "from pd_game import PD"
   ]
  },
  {
   "cell_type": "code",
   "execution_count": 28,
   "id": "sustained-earthquake",
   "metadata": {},
   "outputs": [],
   "source": [
    "pd = PD(100, 1.4, .8)"
   ]
  },
  {
   "cell_type": "code",
   "execution_count": 29,
   "id": "lesbian-shopper",
   "metadata": {},
   "outputs": [
    {
     "data": {
      "text/plain": [
       "(100, 100)"
      ]
     },
     "execution_count": 29,
     "metadata": {},
     "output_type": "execute_result"
    }
   ],
   "source": [
    "ca0 = pd.create_init(); ca0.shape"
   ]
  },
  {
   "cell_type": "code",
   "execution_count": 37,
   "id": "quick-premises",
   "metadata": {},
   "outputs": [],
   "source": [
    "pd2 = PD(100, 1.8,1)"
   ]
  },
  {
   "cell_type": "code",
   "execution_count": 38,
   "id": "chicken-designation",
   "metadata": {},
   "outputs": [
    {
     "data": {
      "text/plain": [
       "(100, 100)"
      ]
     },
     "execution_count": 38,
     "metadata": {},
     "output_type": "execute_result"
    }
   ],
   "source": [
    "ca1 = pd2.create_init(); ca1.shape"
   ]
  },
  {
   "cell_type": "markdown",
   "id": "opposed-bulgaria",
   "metadata": {},
   "source": [
    "## Visualize initial CA with the class Show"
   ]
  },
  {
   "cell_type": "code",
   "execution_count": 30,
   "id": "smooth-white",
   "metadata": {},
   "outputs": [],
   "source": [
    "from show_array import Show\n",
    "vis = Show(pd.cdic, pd.cdic_hist)"
   ]
  },
  {
   "cell_type": "code",
   "execution_count": 31,
   "id": "fleet-dispute",
   "metadata": {},
   "outputs": [
    {
     "data": {
      "text/plain": [
       "{1: (0.0, 0.0, 1.0), 0: (1.0, 0.0, 0.0)}"
      ]
     },
     "execution_count": 31,
     "metadata": {},
     "output_type": "execute_result"
    }
   ],
   "source": [
    "vis.cdic"
   ]
  },
  {
   "cell_type": "code",
   "execution_count": 32,
   "id": "designing-freedom",
   "metadata": {},
   "outputs": [
    {
     "data": {
      "text/plain": [
       "{(0, 0): (1.0, 0.0, 0.0),\n",
       " (1, 1): (0.0, 0.0, 1.0),\n",
       " (0, 1): (0.0, 0.5019607843137255, 0.0),\n",
       " (1, 0): (1.0, 1.0, 0.0)}"
      ]
     },
     "execution_count": 32,
     "metadata": {},
     "output_type": "execute_result"
    }
   ],
   "source": [
    "vis.cdic_hist"
   ]
  },
  {
   "cell_type": "code",
   "execution_count": 39,
   "id": "pursuant-plain",
   "metadata": {},
   "outputs": [
    {
     "data": {
      "text/plain": [
       "<matplotlib.image.AxesImage at 0x7f168c308ac0>"
      ]
     },
     "execution_count": 39,
     "metadata": {},
     "output_type": "execute_result"
    },
    {
     "data": {
      "image/png": "[encoded data removed]",
      "text/plain": [
       "<Figure size 432x288 with 1 Axes>"
      ]
     },
     "metadata": {
      "needs_background": "light"
     },
     "output_type": "display_data"
    }
   ],
   "source": [
    "fix, ax = plt.subplots(1)\n",
    "vis.show_array(ca1, ax)"
   ]
  },
  {
   "cell_type": "markdown",
   "id": "statewide-money",
   "metadata": {},
   "source": [
    "# Runs without history"
   ]
  },
  {
   "cell_type": "code",
   "execution_count": 40,
   "id": "human-worker",
   "metadata": {},
   "outputs": [
    {
     "data": {
      "text/plain": [
       "(6, 100, 100)"
      ]
     },
     "execution_count": 40,
     "metadata": {},
     "output_type": "execute_result"
    }
   ],
   "source": [
    "series = pd.run(ca1,5)\n",
    "np.array(series).shape"
   ]
  },
  {
   "cell_type": "code",
   "execution_count": 41,
   "id": "focal-shield",
   "metadata": {},
   "outputs": [
    {
     "data": {
      "text/plain": [
       "(<matplotlib.image.AxesImage at 0x7f168c054f40>,\n",
       " <matplotlib.image.AxesImage at 0x7f168c074910>,\n",
       " <matplotlib.image.AxesImage at 0x7f168c074be0>,\n",
       " <matplotlib.image.AxesImage at 0x7f168c074eb0>,\n",
       " <matplotlib.image.AxesImage at 0x7f1682c621c0>,\n",
       " <matplotlib.image.AxesImage at 0x7f1682c62490>)"
      ]
     },
     "execution_count": 41,
     "metadata": {},
     "output_type": "execute_result"
    },
    {
     "data": {
      "image/png": "[encoded data removed]",
      "text/plain": [
       "<Figure size 432x288 with 6 Axes>"
      ]
     },
     "metadata": {
      "needs_background": "light"
     },
     "output_type": "display_data"
    }
   ],
   "source": [
    "fig,axs = plt.subplots(2,3)\n",
    "vis.show_tuple(series,axs)"
   ]
  },
  {
   "cell_type": "markdown",
   "id": "encouraging-imagination",
   "metadata": {},
   "source": [
    "# Runs with history"
   ]
  },
  {
   "cell_type": "code",
   "execution_count": 42,
   "id": "expected-frank",
   "metadata": {},
   "outputs": [
    {
     "data": {
      "text/plain": [
       "(<matplotlib.image.AxesImage at 0x7f1682b53fa0>,\n",
       " <matplotlib.image.AxesImage at 0x7f1682af5970>,\n",
       " <matplotlib.image.AxesImage at 0x7f1682af5c40>,\n",
       " <matplotlib.image.AxesImage at 0x7f1682af5f10>,\n",
       " <matplotlib.image.AxesImage at 0x7f1682b04220>)"
      ]
     },
     "execution_count": 42,
     "metadata": {},
     "output_type": "execute_result"
    },
    {
     "data": {
      "image/png": "[encoded data removed]",
      "text/plain": [
       "<Figure size 432x288 with 6 Axes>"
      ]
     },
     "metadata": {
      "needs_background": "light"
     },
     "output_type": "display_data"
    }
   ],
   "source": [
    "fig,axs = plt.subplots(2,3)\n",
    "vis.show_tuple(series,axs, True)"
   ]
  }
 ],
 "metadata": {
  "kernelspec": {
   "display_name": "Python 3",
   "language": "python",
   "name": "python3"
  },
  "language_info": {
   "codemirror_mode": {
    "name": "ipython",
    "version": 3
   },
   "file_extension": ".py",
   "mimetype": "text/x-python",
   "name": "python",
   "nbconvert_exporter": "python",
   "pygments_lexer": "ipython3",
   "version": "3.9.1"
  }
 },
 "nbformat": 4,
 "nbformat_minor": 5
}
