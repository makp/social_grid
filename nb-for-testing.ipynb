{
 "cells": [
  {
   "cell_type": "markdown",
   "id": "generous-innocent",
   "metadata": {},
   "source": [
    "# Set up"
   ]
  },
  {
   "cell_type": "markdown",
   "id": "final-jurisdiction",
   "metadata": {},
   "source": [
    "## Load some modules and classes"
   ]
  },
  {
   "cell_type": "code",
   "execution_count": 2,
   "id": "accessory-switzerland",
   "metadata": {},
   "outputs": [],
   "source": [
    "import numpy as np\n",
    "import matplotlib.pyplot as plt"
   ]
  },
  {
   "cell_type": "code",
   "execution_count": 3,
   "id": "clean-gambling",
   "metadata": {},
   "outputs": [],
   "source": [
    "%matplotlib inline"
   ]
  },
  {
   "cell_type": "code",
   "execution_count": 4,
   "id": "presidential-creativity",
   "metadata": {},
   "outputs": [],
   "source": [
    "from show_array import Visualize"
   ]
  },
  {
   "cell_type": "markdown",
   "id": "looking-portland",
   "metadata": {},
   "source": [
    "## Create initial CA"
   ]
  },
  {
   "cell_type": "code",
   "execution_count": 5,
   "id": "attended-kidney",
   "metadata": {},
   "outputs": [],
   "source": [
    "from pd_game import PD"
   ]
  },
  {
   "cell_type": "code",
   "execution_count": 6,
   "id": "turned-agriculture",
   "metadata": {},
   "outputs": [],
   "source": [
    "pd = PD(10, 1.4, .5)"
   ]
  },
  {
   "cell_type": "code",
   "execution_count": 7,
   "id": "sixth-examination",
   "metadata": {},
   "outputs": [
    {
     "data": {
      "text/plain": [
       "(10, 10)"
      ]
     },
     "execution_count": 7,
     "metadata": {},
     "output_type": "execute_result"
    }
   ],
   "source": [
    "ca0 = pd.create_init(); ca0.shape"
   ]
  },
  {
   "cell_type": "markdown",
   "id": "generous-exception",
   "metadata": {},
   "source": [
    "# Runs without history"
   ]
  },
  {
   "cell_type": "code",
   "execution_count": 8,
   "id": "equipped-novelty",
   "metadata": {},
   "outputs": [],
   "source": [
    "cdic = {1:'blue', 0:'green'}"
   ]
  },
  {
   "cell_type": "code",
   "execution_count": 9,
   "id": "southwest-rider",
   "metadata": {},
   "outputs": [],
   "source": [
    "vis = Visualize(cdic)"
   ]
  },
  {
   "cell_type": "markdown",
   "id": "distant-feature",
   "metadata": {},
   "source": [
    "## Run once"
   ]
  },
  {
   "cell_type": "code",
   "execution_count": 10,
   "id": "subject-possible",
   "metadata": {},
   "outputs": [
    {
     "data": {
      "text/plain": [
       "(10, 10)"
      ]
     },
     "execution_count": 10,
     "metadata": {},
     "output_type": "execute_result"
    }
   ],
   "source": [
    "ca1 = pd.run_once(ca0); ca1.shape"
   ]
  },
  {
   "cell_type": "code",
   "execution_count": 11,
   "id": "champion-forest",
   "metadata": {},
   "outputs": [
    {
     "data": {
      "text/plain": [
       "<matplotlib.image.AxesImage at 0x7f7d3496f6d0>"
      ]
     },
     "execution_count": 11,
     "metadata": {},
     "output_type": "execute_result"
    },
    {
     "data": {
      "image/png": "[encoded data removed]",
      "text/plain": [
       "<Figure size 432x288 with 1 Axes>"
      ]
     },
     "metadata": {
      "needs_background": "light"
     },
     "output_type": "display_data"
    }
   ],
   "source": [
    "fig, ax = plt.subplots(1)\n",
    "vis.show_single(ca1,ax)"
   ]
  },
  {
   "cell_type": "markdown",
   "id": "invisible-measure",
   "metadata": {},
   "source": [
    "## Run multiple times"
   ]
  },
  {
   "cell_type": "code",
   "execution_count": 14,
   "id": "essential-diameter",
   "metadata": {},
   "outputs": [],
   "source": [
    "ca_all = pd.run_multi(ca0,5)"
   ]
  },
  {
   "cell_type": "code",
   "execution_count": 18,
   "id": "solar-aquatic",
   "metadata": {},
   "outputs": [
    {
     "data": {
      "text/plain": [
       "6"
      ]
     },
     "execution_count": 18,
     "metadata": {},
     "output_type": "execute_result"
    }
   ],
   "source": [
    "len(ca_all)"
   ]
  },
  {
   "cell_type": "code",
   "execution_count": 19,
   "id": "descending-anime",
   "metadata": {},
   "outputs": [
    {
     "data": {
      "text/plain": [
       "[<matplotlib.image.AxesImage at 0x7f7d1d5d6c10>,\n",
       " <matplotlib.image.AxesImage at 0x7f7d1d5795e0>,\n",
       " <matplotlib.image.AxesImage at 0x7f7d1d5798b0>,\n",
       " <matplotlib.image.AxesImage at 0x7f7d1d579b80>,\n",
       " <matplotlib.image.AxesImage at 0x7f7d1d579e50>,\n",
       " <matplotlib.image.AxesImage at 0x7f7d1d585160>]"
      ]
     },
     "execution_count": 19,
     "metadata": {},
     "output_type": "execute_result"
    },
    {
     "data": {
      "image/png": "[encoded data removed]",
      "text/plain": [
       "<Figure size 432x288 with 6 Axes>"
      ]
     },
     "metadata": {
      "needs_background": "light"
     },
     "output_type": "display_data"
    }
   ],
   "source": [
    "fig, axs = plt.subplots(1,6)\n",
    "vis.show_multiple(ca_all, axs)"
   ]
  }
 ],
 "metadata": {
  "kernelspec": {
   "display_name": "Python 3",
   "language": "python",
   "name": "python3"
  },
  "language_info": {
   "codemirror_mode": {
    "name": "ipython",
    "version": 3
   },
   "file_extension": ".py",
   "mimetype": "text/x-python",
   "name": "python",
   "nbconvert_exporter": "python",
   "pygments_lexer": "ipython3",
   "version": "3.9.1"
  }
 },
 "nbformat": 4,
 "nbformat_minor": 5
}
