{
 "cells": [
  {
   "cell_type": "markdown",
   "id": "discrete-recovery",
   "metadata": {},
   "source": [
    "# Setup"
   ]
  },
  {
   "cell_type": "markdown",
   "id": "fourth-glory",
   "metadata": {},
   "source": [
    "## Load some modules"
   ]
  },
  {
   "cell_type": "code",
   "execution_count": 1,
   "id": "endless-ottawa",
   "metadata": {},
   "outputs": [],
   "source": [
    "import numpy as np\n",
    "import matplotlib.pyplot as plt"
   ]
  },
  {
   "cell_type": "code",
   "execution_count": 2,
   "id": "vietnamese-valuable",
   "metadata": {},
   "outputs": [],
   "source": [
    "%matplotlib inline"
   ]
  },
  {
   "cell_type": "markdown",
   "id": "automotive-equivalent",
   "metadata": {},
   "source": [
    "## Create initial CA"
   ]
  },
  {
   "cell_type": "code",
   "execution_count": 3,
   "id": "systematic-mustang",
   "metadata": {},
   "outputs": [],
   "source": [
    "from pd_game import PD"
   ]
  },
  {
   "cell_type": "code",
   "execution_count": 4,
   "id": "indonesian-fireplace",
   "metadata": {},
   "outputs": [],
   "source": [
    "pd = PD(10, 1.4, .5)"
   ]
  },
  {
   "cell_type": "code",
   "execution_count": 5,
   "id": "affecting-crisis",
   "metadata": {},
   "outputs": [
    {
     "data": {
      "text/plain": [
       "(10, 10)"
      ]
     },
     "execution_count": 5,
     "metadata": {},
     "output_type": "execute_result"
    }
   ],
   "source": [
    "ca0 = pd.create_init(); ca0.shape"
   ]
  },
  {
   "cell_type": "markdown",
   "id": "tired-uzbekistan",
   "metadata": {},
   "source": [
    "## Visualize initial CA with the class Show"
   ]
  },
  {
   "cell_type": "code",
   "execution_count": 6,
   "id": "other-carroll",
   "metadata": {},
   "outputs": [],
   "source": [
    "from show_array import Show\n",
    "vis = Show(pd.cdic, pd.cdic_hist)"
   ]
  },
  {
   "cell_type": "code",
   "execution_count": 7,
   "id": "chubby-chick",
   "metadata": {},
   "outputs": [
    {
     "data": {
      "text/plain": [
       "{1: (0.0, 0.0, 1.0), 0: (1.0, 0.0, 0.0)}"
      ]
     },
     "execution_count": 7,
     "metadata": {},
     "output_type": "execute_result"
    }
   ],
   "source": [
    "vis.cdic"
   ]
  },
  {
   "cell_type": "code",
   "execution_count": 8,
   "id": "correct-insured",
   "metadata": {},
   "outputs": [
    {
     "data": {
      "text/plain": [
       "{(0, 0): (1.0, 0.0, 0.0),\n",
       " (1, 1): (0.0, 0.0, 1.0),\n",
       " (0, 1): (0.0, 0.5019607843137255, 0.0),\n",
       " (1, 0): (1.0, 1.0, 0.0)}"
      ]
     },
     "execution_count": 8,
     "metadata": {},
     "output_type": "execute_result"
    }
   ],
   "source": [
    "vis.cdic_hist"
   ]
  },
  {
   "cell_type": "code",
   "execution_count": 9,
   "id": "raising-baptist",
   "metadata": {},
   "outputs": [
    {
     "data": {
      "text/plain": [
       "<matplotlib.image.AxesImage at 0x7f168dccfdc0>"
      ]
     },
     "execution_count": 9,
     "metadata": {},
     "output_type": "execute_result"
    },
    {
     "data": {
      "image/png": "[encoded data removed]",
      "text/plain": [
       "<Figure size 432x288 with 1 Axes>"
      ]
     },
     "metadata": {
      "needs_background": "light"
     },
     "output_type": "display_data"
    }
   ],
   "source": [
    "fix, ax = plt.subplots(1)\n",
    "vis.show_array(ca0, ax)"
   ]
  },
  {
   "cell_type": "markdown",
   "id": "treated-stream",
   "metadata": {},
   "source": [
    "# Runs without history"
   ]
  },
  {
   "cell_type": "code",
   "execution_count": 10,
   "id": "analyzed-heaven",
   "metadata": {},
   "outputs": [
    {
     "data": {
      "text/plain": [
       "(6, 10, 10)"
      ]
     },
     "execution_count": 10,
     "metadata": {},
     "output_type": "execute_result"
    }
   ],
   "source": [
    "series = pd.run(ca0,5)\n",
    "np.array(series).shape"
   ]
  },
  {
   "cell_type": "code",
   "execution_count": 13,
   "id": "turned-slovakia",
   "metadata": {},
   "outputs": [
    {
     "data": {
      "text/plain": [
       "(<matplotlib.image.AxesImage at 0x7f168d737550>,\n",
       " <matplotlib.image.AxesImage at 0x7f168d6d1ee0>,\n",
       " <matplotlib.image.AxesImage at 0x7f168d6e11f0>,\n",
       " <matplotlib.image.AxesImage at 0x7f168d6e14c0>,\n",
       " <matplotlib.image.AxesImage at 0x7f168d6e1790>,\n",
       " <matplotlib.image.AxesImage at 0x7f168d6e1a60>)"
      ]
     },
     "execution_count": 13,
     "metadata": {},
     "output_type": "execute_result"
    },
    {
     "data": {
      "image/png": "[encoded data removed]",
      "text/plain": [
       "<Figure size 432x288 with 6 Axes>"
      ]
     },
     "metadata": {
      "needs_background": "light"
     },
     "output_type": "display_data"
    }
   ],
   "source": [
    "fig,axs = plt.subplots(2,3)\n",
    "vis.show_tuple(series,axs)"
   ]
  },
  {
   "cell_type": "markdown",
   "id": "happy-round",
   "metadata": {},
   "source": [
    "# Runs with history"
   ]
  },
  {
   "cell_type": "code",
   "execution_count": 15,
   "id": "posted-reconstruction",
   "metadata": {},
   "outputs": [
    {
     "data": {
      "text/plain": [
       "(<matplotlib.image.AxesImage at 0x7f168d2b8d30>,\n",
       " <matplotlib.image.AxesImage at 0x7f168d25d700>,\n",
       " <matplotlib.image.AxesImage at 0x7f168d25d9d0>,\n",
       " <matplotlib.image.AxesImage at 0x7f168d25dca0>,\n",
       " <matplotlib.image.AxesImage at 0x7f168d25df70>)"
      ]
     },
     "execution_count": 15,
     "metadata": {},
     "output_type": "execute_result"
    },
    {
     "data": {
      "image/png": "[encoded data removed]",
      "text/plain": [
       "<Figure size 432x288 with 6 Axes>"
      ]
     },
     "metadata": {
      "needs_background": "light"
     },
     "output_type": "display_data"
    }
   ],
   "source": [
    "fig,axs = plt.subplots(2,3)\n",
    "vis.show_tuple(series,axs, True)"
   ]
  }
 ],
 "metadata": {
  "kernelspec": {
   "display_name": "Python 3",
   "language": "python",
   "name": "python3"
  },
  "language_info": {
   "codemirror_mode": {
    "name": "ipython",
    "version": 3
   },
   "file_extension": ".py",
   "mimetype": "text/x-python",
   "name": "python",
   "nbconvert_exporter": "python",
   "pygments_lexer": "ipython3",
   "version": "3.9.1"
  }
 },
 "nbformat": 4,
 "nbformat_minor": 5
}
