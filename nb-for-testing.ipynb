{
 "cells": [
  {
   "cell_type": "markdown",
   "id": "gross-istanbul",
   "metadata": {},
   "source": [
    "# Set up"
   ]
  },
  {
   "cell_type": "markdown",
   "id": "julian-entity",
   "metadata": {},
   "source": [
    "## Load some modules and classes"
   ]
  },
  {
   "cell_type": "code",
   "execution_count": 214,
   "id": "pretty-treasurer",
   "metadata": {},
   "outputs": [],
   "source": [
    "import numpy as np"
   ]
  },
  {
   "cell_type": "code",
   "execution_count": 215,
   "id": "monthly-spell",
   "metadata": {},
   "outputs": [],
   "source": [
    "import matplotlib.pyplot as plt"
   ]
  },
  {
   "cell_type": "code",
   "execution_count": 216,
   "id": "immune-drinking",
   "metadata": {},
   "outputs": [],
   "source": [
    "%matplotlib inline"
   ]
  },
  {
   "cell_type": "code",
   "execution_count": 217,
   "id": "complimentary-malaysia",
   "metadata": {},
   "outputs": [],
   "source": [
    "from show_array import Visualize"
   ]
  },
  {
   "cell_type": "markdown",
   "id": "russian-exhibition",
   "metadata": {},
   "source": [
    "## Create initial CA"
   ]
  },
  {
   "cell_type": "code",
   "execution_count": 129,
   "id": "corresponding-draft",
   "metadata": {},
   "outputs": [],
   "source": [
    "from pd_game import PD"
   ]
  },
  {
   "cell_type": "code",
   "execution_count": 130,
   "id": "thousand-batman",
   "metadata": {},
   "outputs": [],
   "source": [
    "pd = PD(10, 1.4, .5)"
   ]
  },
  {
   "cell_type": "code",
   "execution_count": 131,
   "id": "utility-council",
   "metadata": {},
   "outputs": [
    {
     "data": {
      "text/plain": [
       "(10, 10)"
      ]
     },
     "execution_count": 131,
     "metadata": {},
     "output_type": "execute_result"
    }
   ],
   "source": [
    "ca0 = pd.create_init(); ca0.shape"
   ]
  },
  {
   "cell_type": "markdown",
   "id": "general-nation",
   "metadata": {},
   "source": [
    "# Runs without history"
   ]
  },
  {
   "cell_type": "code",
   "execution_count": 224,
   "id": "lined-invasion",
   "metadata": {},
   "outputs": [],
   "source": [
    "cdic = {1:'blue', 0:'green'}"
   ]
  },
  {
   "cell_type": "code",
   "execution_count": 225,
   "id": "stupid-sheffield",
   "metadata": {},
   "outputs": [],
   "source": [
    "vis = Visualize(cdic)"
   ]
  },
  {
   "cell_type": "markdown",
   "id": "unlike-moore",
   "metadata": {},
   "source": [
    "## Run once"
   ]
  },
  {
   "cell_type": "code",
   "execution_count": 226,
   "id": "exceptional-telescope",
   "metadata": {},
   "outputs": [
    {
     "data": {
      "text/plain": [
       "(10, 10)"
      ]
     },
     "execution_count": 226,
     "metadata": {},
     "output_type": "execute_result"
    }
   ],
   "source": [
    "ca1 = pd.run_once(ca0); ca1.shape"
   ]
  },
  {
   "cell_type": "code",
   "execution_count": 227,
   "id": "unlikely-hacker",
   "metadata": {},
   "outputs": [
    {
     "data": {
      "text/plain": [
       "<matplotlib.image.AxesImage at 0x7f4354e474c0>"
      ]
     },
     "execution_count": 227,
     "metadata": {},
     "output_type": "execute_result"
    },
    {
     "data": {
      "image/png": "[encoded data removed]",
      "text/plain": [
       "<Figure size 432x288 with 1 Axes>"
      ]
     },
     "metadata": {
      "needs_background": "light"
     },
     "output_type": "display_data"
    }
   ],
   "source": [
    "fig, ax = plt.subplots(1)\n",
    "vis.show_single(ca1,ax)"
   ]
  },
  {
   "cell_type": "markdown",
   "id": "potential-satellite",
   "metadata": {},
   "source": [
    "## Run multiple times"
   ]
  },
  {
   "cell_type": "code",
   "execution_count": 136,
   "id": "formed-juice",
   "metadata": {},
   "outputs": [],
   "source": [
    "ca_all = "
   ]
  },
  {
   "cell_type": "code",
   "execution_count": 137,
   "id": "prepared-killing",
   "metadata": {},
   "outputs": [
    {
     "data": {
      "text/plain": [
       "[<matplotlib.image.AxesImage at 0x7f4354f778b0>,\n",
       " <matplotlib.image.AxesImage at 0x7f4354f05a90>]"
      ]
     },
     "execution_count": 137,
     "metadata": {},
     "output_type": "execute_result"
    },
    {
     "data": {
      "image/png": "[encoded data removed]",
      "text/plain": [
       "<Figure size 432x288 with 2 Axes>"
      ]
     },
     "metadata": {
      "needs_background": "light"
     },
     "output_type": "display_data"
    }
   ],
   "source": [
    "fig, axs = plt.subplots(1,2)\n",
    "vis.show_multiple(ca_all, axs)"
   ]
  }
 ],
 "metadata": {
  "kernelspec": {
   "display_name": "Python 3",
   "language": "python",
   "name": "python3"
  },
  "language_info": {
   "codemirror_mode": {
    "name": "ipython",
    "version": 3
   },
   "file_extension": ".py",
   "mimetype": "text/x-python",
   "name": "python",
   "nbconvert_exporter": "python",
   "pygments_lexer": "ipython3",
   "version": "3.9.1"
  }
 },
 "nbformat": 4,
 "nbformat_minor": 5
}
