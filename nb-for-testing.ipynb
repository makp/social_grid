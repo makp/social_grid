{
 "cells": [
  {
   "cell_type": "markdown",
   "id": "cooperative-syria",
   "metadata": {},
   "source": [
    "# Set up"
   ]
  },
  {
   "cell_type": "markdown",
   "id": "express-arcade",
   "metadata": {},
   "source": [
    "## Load some modules and classes"
   ]
  },
  {
   "cell_type": "code",
   "execution_count": 2,
   "id": "affected-mining",
   "metadata": {},
   "outputs": [],
   "source": [
    "import numpy as np\n",
    "import matplotlib.pyplot as plt"
   ]
  },
  {
   "cell_type": "code",
   "execution_count": 3,
   "id": "incomplete-gossip",
   "metadata": {},
   "outputs": [],
   "source": [
    "%matplotlib inline"
   ]
  },
  {
   "cell_type": "code",
   "execution_count": 4,
   "id": "every-converter",
   "metadata": {},
   "outputs": [],
   "source": [
    "from show_array import Visualize"
   ]
  },
  {
   "cell_type": "markdown",
   "id": "seeing-exemption",
   "metadata": {},
   "source": [
    "## Create initial CA"
   ]
  },
  {
   "cell_type": "code",
   "execution_count": 5,
   "id": "bearing-absolute",
   "metadata": {},
   "outputs": [],
   "source": [
    "from pd_game import PD"
   ]
  },
  {
   "cell_type": "code",
   "execution_count": 6,
   "id": "alike-rainbow",
   "metadata": {},
   "outputs": [],
   "source": [
    "pd = PD(10, 1.4, .5)"
   ]
  },
  {
   "cell_type": "code",
   "execution_count": 7,
   "id": "looking-drilling",
   "metadata": {},
   "outputs": [
    {
     "data": {
      "text/plain": [
       "(10, 10)"
      ]
     },
     "execution_count": 7,
     "metadata": {},
     "output_type": "execute_result"
    }
   ],
   "source": [
    "ca0 = pd.create_init(); ca0.shape"
   ]
  },
  {
   "cell_type": "markdown",
   "id": "sustainable-double",
   "metadata": {},
   "source": [
    "# Runs without history"
   ]
  },
  {
   "cell_type": "code",
   "execution_count": 8,
   "id": "existing-wallace",
   "metadata": {},
   "outputs": [],
   "source": [
    "cdic = {1:'blue', 0:'green'}"
   ]
  },
  {
   "cell_type": "code",
   "execution_count": 9,
   "id": "interracial-stream",
   "metadata": {},
   "outputs": [],
   "source": [
    "vis = Visualize(cdic)"
   ]
  },
  {
   "cell_type": "markdown",
   "id": "moved-yesterday",
   "metadata": {},
   "source": [
    "## Run once"
   ]
  },
  {
   "cell_type": "code",
   "execution_count": 10,
   "id": "hazardous-fruit",
   "metadata": {},
   "outputs": [
    {
     "data": {
      "text/plain": [
       "(10, 10)"
      ]
     },
     "execution_count": 10,
     "metadata": {},
     "output_type": "execute_result"
    }
   ],
   "source": [
    "ca1 = pd.run_once(ca0); ca1.shape"
   ]
  },
  {
   "cell_type": "code",
   "execution_count": 11,
   "id": "horizontal-diamond",
   "metadata": {},
   "outputs": [
    {
     "data": {
      "text/plain": [
       "<matplotlib.image.AxesImage at 0x7f7d3496f6d0>"
      ]
     },
     "execution_count": 11,
     "metadata": {},
     "output_type": "execute_result"
    },
    {
     "data": {
      "image/png": "[encoded data removed]",
      "text/plain": [
       "<Figure size 432x288 with 1 Axes>"
      ]
     },
     "metadata": {
      "needs_background": "light"
     },
     "output_type": "display_data"
    }
   ],
   "source": [
    "fig, ax = plt.subplots(1)\n",
    "vis.show_single(ca1,ax)"
   ]
  },
  {
   "cell_type": "markdown",
   "id": "internal-paraguay",
   "metadata": {},
   "source": [
    "## Run multiple times"
   ]
  },
  {
   "cell_type": "code",
   "execution_count": 136,
   "id": "occupational-sustainability",
   "metadata": {},
   "outputs": [],
   "source": [
    "ca_all = "
   ]
  },
  {
   "cell_type": "code",
   "execution_count": 137,
   "id": "curious-tampa",
   "metadata": {},
   "outputs": [
    {
     "data": {
      "text/plain": [
       "[<matplotlib.image.AxesImage at 0x7f4354f778b0>,\n",
       " <matplotlib.image.AxesImage at 0x7f4354f05a90>]"
      ]
     },
     "execution_count": 137,
     "metadata": {},
     "output_type": "execute_result"
    },
    {
     "data": {
      "image/png": "[encoded data removed]",
      "text/plain": [
       "<Figure size 432x288 with 2 Axes>"
      ]
     },
     "metadata": {
      "needs_background": "light"
     },
     "output_type": "display_data"
    }
   ],
   "source": [
    "fig, axs = plt.subplots(1,2)\n",
    "vis.show_multiple(ca_all, axs)"
   ]
  }
 ],
 "metadata": {
  "kernelspec": {
   "display_name": "Python 3",
   "language": "python",
   "name": "python3"
  },
  "language_info": {
   "codemirror_mode": {
    "name": "ipython",
    "version": 3
   },
   "file_extension": ".py",
   "mimetype": "text/x-python",
   "name": "python",
   "nbconvert_exporter": "python",
   "pygments_lexer": "ipython3",
   "version": "3.9.1"
  }
 },
 "nbformat": 4,
 "nbformat_minor": 5
}
