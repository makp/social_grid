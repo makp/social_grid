{
 "cells": [
  {
   "cell_type": "markdown",
   "id": "efficient-islam",
   "metadata": {},
   "source": [
    "# Prisoner's Dilemma on a Grid"
   ]
  },
  {
   "cell_type": "markdown",
   "id": "sixth-lightweight",
   "metadata": {},
   "source": [
    "## Load some modules and classes"
   ]
  },
  {
   "cell_type": "code",
   "execution_count": 1,
   "id": "dental-quarterly",
   "metadata": {},
   "outputs": [],
   "source": [
    "import numpy as np\n",
    "import matplotlib.pyplot as plt"
   ]
  },
  {
   "cell_type": "code",
   "execution_count": 2,
   "id": "spread-fashion",
   "metadata": {},
   "outputs": [],
   "source": [
    "%matplotlib inline"
   ]
  },
  {
   "cell_type": "code",
   "execution_count": 3,
   "id": "vanilla-weapon",
   "metadata": {},
   "outputs": [],
   "source": [
    "from pd_game import PD\n",
    "from show_array import Show"
   ]
  },
  {
   "cell_type": "markdown",
   "id": "impressive-stroke",
   "metadata": {},
   "source": [
    "## Stability against cheater invasion"
   ]
  },
  {
   "cell_type": "code",
   "execution_count": 4,
   "id": "certified-meaning",
   "metadata": {},
   "outputs": [],
   "source": [
    "pd = PD(101, 1.8, 1)\n",
    "vis = Show(pd.cdic, pd.cdic_hist)"
   ]
  },
  {
   "cell_type": "markdown",
   "id": "incorrect-personality",
   "metadata": {},
   "source": [
    "### Create initial CA with one cheater in the middle"
   ]
  },
  {
   "cell_type": "code",
   "execution_count": 5,
   "id": "positive-division",
   "metadata": {},
   "outputs": [],
   "source": [
    "ca_ess = pd.create_init()"
   ]
  },
  {
   "cell_type": "code",
   "execution_count": 6,
   "id": "indie-spencer",
   "metadata": {},
   "outputs": [
    {
     "data": {
      "text/plain": [
       "(101, 101)"
      ]
     },
     "execution_count": 6,
     "metadata": {},
     "output_type": "execute_result"
    }
   ],
   "source": [
    "ca_ess.shape"
   ]
  },
  {
   "cell_type": "code",
   "execution_count": 7,
   "id": "desirable-runner",
   "metadata": {},
   "outputs": [
    {
     "data": {
      "text/plain": [
       "<matplotlib.image.AxesImage at 0x7f0285583dc0>"
      ]
     },
     "execution_count": 7,
     "metadata": {},
     "output_type": "execute_result"
    },
    {
     "data": {
      "image/png": "[encoded data removed]",
      "text/plain": [
       "<Figure size 432x288 with 1 Axes>"
      ]
     },
     "metadata": {
      "needs_background": "light"
     },
     "output_type": "display_data"
    }
   ],
   "source": [
    "fig, ax = plt.subplots(1)\n",
    "vis.show_array(ca_ess,ax)"
   ]
  },
  {
   "cell_type": "markdown",
   "id": "dated-lincoln",
   "metadata": {},
   "source": [
    "## Dynamics"
   ]
  },
  {
   "cell_type": "code",
   "execution_count": 8,
   "id": "approximate-environment",
   "metadata": {},
   "outputs": [
    {
     "data": {
      "text/plain": [
       "57"
      ]
     },
     "execution_count": 8,
     "metadata": {},
     "output_type": "execute_result"
    }
   ],
   "source": [
    "series = pd.run(ca_ess, 56)\n",
    "len(series)"
   ]
  },
  {
   "cell_type": "code",
   "execution_count": 9,
   "id": "figured-delhi",
   "metadata": {},
   "outputs": [
    {
     "data": {
      "text/plain": [
       "(<matplotlib.image.AxesImage at 0x7f02852ad100>,\n",
       " <matplotlib.image.AxesImage at 0x7f027d15c580>)"
      ]
     },
     "execution_count": 9,
     "metadata": {},
     "output_type": "execute_result"
    },
    {
     "data": {
      "image/png": "[encoded data removed]",
      "text/plain": [
       "<Figure size 432x288 with 2 Axes>"
      ]
     },
     "metadata": {
      "needs_background": "light"
     },
     "output_type": "display_data"
    }
   ],
   "source": [
    "fig, axs = plt.subplots(2)\n",
    "vis.show_tuple(series[-8:-6], axs)"
   ]
  },
  {
   "cell_type": "markdown",
   "id": "informative-watershed",
   "metadata": {},
   "source": [
    "## Evolutionary dynamics from mixed populations"
   ]
  },
  {
   "cell_type": "markdown",
   "id": "opening-mixture",
   "metadata": {},
   "source": [
    "### Create initial CA"
   ]
  },
  {
   "cell_type": "code",
   "execution_count": 28,
   "id": "noticed-cargo",
   "metadata": {},
   "outputs": [],
   "source": [
    "pd = PD(100, 1.4, .8)"
   ]
  },
  {
   "cell_type": "code",
   "execution_count": 29,
   "id": "banner-huntington",
   "metadata": {},
   "outputs": [
    {
     "data": {
      "text/plain": [
       "(100, 100)"
      ]
     },
     "execution_count": 29,
     "metadata": {},
     "output_type": "execute_result"
    }
   ],
   "source": [
    "ca0 = pd.create_init(); ca0.shape"
   ]
  },
  {
   "cell_type": "code",
   "execution_count": 35,
   "id": "framed-makeup",
   "metadata": {},
   "outputs": [
    {
     "data": {
      "text/plain": [
       "<matplotlib.image.AxesImage at 0x7fc8f92eb5e0>"
      ]
     },
     "execution_count": 35,
     "metadata": {},
     "output_type": "execute_result"
    },
    {
     "data": {
      "image/png": "[encoded data removed]",
      "text/plain": [
       "<Figure size 432x288 with 1 Axes>"
      ]
     },
     "metadata": {
      "needs_background": "light"
     },
     "output_type": "display_data"
    }
   ],
   "source": [
    "fix, ax = plt.subplots(1)\n",
    "vis.show_array(ca1, ax)"
   ]
  },
  {
   "cell_type": "markdown",
   "id": "incorporated-blame",
   "metadata": {},
   "source": [
    "# Runs without history"
   ]
  },
  {
   "cell_type": "code",
   "execution_count": 9,
   "id": "thorough-undergraduate",
   "metadata": {},
   "outputs": [
    {
     "ename": "NameError",
     "evalue": "name 'ca1' is not defined",
     "output_type": "error",
     "traceback": [
      "\u001b[0;31m---------------------------------------------------------------------\u001b[0m",
      "\u001b[0;31mNameError\u001b[0m                           Traceback (most recent call last)",
      "\u001b[0;32m<ipython-input-9-4f1e64240d47>\u001b[0m in \u001b[0;36m<module>\u001b[0;34m\u001b[0m\n\u001b[0;32m----> 1\u001b[0;31m \u001b[0mseries_raw\u001b[0m \u001b[0;34m=\u001b[0m \u001b[0mpd\u001b[0m\u001b[0;34m.\u001b[0m\u001b[0mrun\u001b[0m\u001b[0;34m(\u001b[0m\u001b[0mca1\u001b[0m\u001b[0;34m,\u001b[0m\u001b[0;36m53\u001b[0m\u001b[0;34m)\u001b[0m\u001b[0;34m\u001b[0m\u001b[0;34m\u001b[0m\u001b[0m\n\u001b[0m",
      "\u001b[0;31mNameError\u001b[0m: name 'ca1' is not defined"
     ]
    }
   ],
   "source": [
    "series_raw = pd.run(ca1,53)"
   ]
  },
  {
   "cell_type": "code",
   "execution_count": null,
   "id": "little-candidate",
   "metadata": {},
   "outputs": [],
   "source": [
    "series = series_raw\n",
    "len(series)"
   ]
  },
  {
   "cell_type": "code",
   "execution_count": null,
   "id": "young-mirror",
   "metadata": {},
   "outputs": [],
   "source": [
    "fig,axs = plt.subplots(3,18)\n",
    "vis.show_tuple(series,axs)"
   ]
  },
  {
   "cell_type": "markdown",
   "id": "driven-salem",
   "metadata": {},
   "source": [
    "# Runs with history"
   ]
  },
  {
   "cell_type": "code",
   "execution_count": null,
   "id": "billion-tennis",
   "metadata": {},
   "outputs": [],
   "source": [
    "fig,axs = plt.subplots(3,17)\n",
    "vis.show_tuple(series,axs, True)"
   ]
  }
 ],
 "metadata": {
  "kernelspec": {
   "display_name": "Python 3",
   "language": "python",
   "name": "python3"
  },
  "language_info": {
   "codemirror_mode": {
    "name": "ipython",
    "version": 3
   },
   "file_extension": ".py",
   "mimetype": "text/x-python",
   "name": "python",
   "nbconvert_exporter": "python",
   "pygments_lexer": "ipython3",
   "version": "3.9.1"
  }
 },
 "nbformat": 4,
 "nbformat_minor": 5
}
