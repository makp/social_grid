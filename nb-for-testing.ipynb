{
 "cells": [
  {
   "cell_type": "markdown",
   "id": "large-treasury",
   "metadata": {},
   "source": [
    "# Setup"
   ]
  },
  {
   "cell_type": "markdown",
   "id": "twelve-conspiracy",
   "metadata": {},
   "source": [
    "## Load some modules"
   ]
  },
  {
   "cell_type": "code",
   "execution_count": 1,
   "id": "behind-subscription",
   "metadata": {},
   "outputs": [],
   "source": [
    "import numpy as np\n",
    "import matplotlib.pyplot as plt"
   ]
  },
  {
   "cell_type": "code",
   "execution_count": 2,
   "id": "liked-network",
   "metadata": {},
   "outputs": [],
   "source": [
    "%matplotlib inline"
   ]
  },
  {
   "cell_type": "markdown",
   "id": "willing-value",
   "metadata": {},
   "source": [
    "## Create initial CA"
   ]
  },
  {
   "cell_type": "code",
   "execution_count": 3,
   "id": "simplified-comment",
   "metadata": {},
   "outputs": [],
   "source": [
    "from pd_game import PD"
   ]
  },
  {
   "cell_type": "code",
   "execution_count": 4,
   "id": "prospective-paradise",
   "metadata": {},
   "outputs": [],
   "source": [
    "pd = PD(10, 1.4, .5)"
   ]
  },
  {
   "cell_type": "code",
   "execution_count": 5,
   "id": "separate-values",
   "metadata": {},
   "outputs": [
    {
     "data": {
      "text/plain": [
       "(10, 10)"
      ]
     },
     "execution_count": 5,
     "metadata": {},
     "output_type": "execute_result"
    }
   ],
   "source": [
    "ca0 = pd.create_init(); ca0.shape"
   ]
  },
  {
   "cell_type": "markdown",
   "id": "martial-software",
   "metadata": {},
   "source": [
    "## Visualize initial CA with the class Show"
   ]
  },
  {
   "cell_type": "code",
   "execution_count": 6,
   "id": "architectural-admission",
   "metadata": {},
   "outputs": [],
   "source": [
    "from show_array import Show\n",
    "vis = Show(pd.cdic, pd.cdic_hist)"
   ]
  },
  {
   "cell_type": "code",
   "execution_count": 7,
   "id": "binding-classics",
   "metadata": {},
   "outputs": [
    {
     "data": {
      "text/plain": [
       "{1: (0.0, 0.0, 1.0), 0: (1.0, 0.0, 0.0)}"
      ]
     },
     "execution_count": 7,
     "metadata": {},
     "output_type": "execute_result"
    }
   ],
   "source": [
    "vis.cdic"
   ]
  },
  {
   "cell_type": "code",
   "execution_count": 8,
   "id": "periodic-intention",
   "metadata": {},
   "outputs": [
    {
     "data": {
      "text/plain": [
       "{(0, 0): (1.0, 0.0, 0.0),\n",
       " (1, 1): (0.0, 0.0, 1.0),\n",
       " (0, 1): (0.0, 0.5019607843137255, 0.0),\n",
       " (1, 0): (1.0, 1.0, 0.0)}"
      ]
     },
     "execution_count": 8,
     "metadata": {},
     "output_type": "execute_result"
    }
   ],
   "source": [
    "vis.cdic_hist"
   ]
  },
  {
   "cell_type": "code",
   "execution_count": 9,
   "id": "interstate-rebecca",
   "metadata": {},
   "outputs": [
    {
     "data": {
      "text/plain": [
       "<matplotlib.image.AxesImage at 0x7f704b4dda30>"
      ]
     },
     "execution_count": 9,
     "metadata": {},
     "output_type": "execute_result"
    },
    {
     "data": {
      "image/png": "[encoded data removed]",
      "text/plain": [
       "<Figure size 432x288 with 1 Axes>"
      ]
     },
     "metadata": {
      "needs_background": "light"
     },
     "output_type": "display_data"
    }
   ],
   "source": [
    "fix, ax = plt.subplots(1)\n",
    "vis.show_array(ca0, ax)"
   ]
  },
  {
   "cell_type": "markdown",
   "id": "progressive-gilbert",
   "metadata": {},
   "source": [
    "# Runs without history"
   ]
  },
  {
   "cell_type": "code",
   "execution_count": 12,
   "id": "creative-oakland",
   "metadata": {},
   "outputs": [
    {
     "data": {
      "text/plain": [
       "(6, 10, 10)"
      ]
     },
     "execution_count": 12,
     "metadata": {},
     "output_type": "execute_result"
    }
   ],
   "source": [
    "series = pd.run(ca0,5)\n",
    "np.array(series).shape"
   ]
  },
  {
   "cell_type": "code",
   "execution_count": 22,
   "id": "parallel-carry",
   "metadata": {},
   "outputs": [
    {
     "data": {
      "text/plain": [
       "(<matplotlib.image.AxesImage at 0x7f704b3acb50>,\n",
       " <matplotlib.image.AxesImage at 0x7f704b3ac760>,\n",
       " <matplotlib.image.AxesImage at 0x7f704b3a67c0>,\n",
       " <matplotlib.image.AxesImage at 0x7f704b3a6df0>,\n",
       " <matplotlib.image.AxesImage at 0x7f704b3c92b0>,\n",
       " <matplotlib.image.AxesImage at 0x7f704b3c9b50>)"
      ]
     },
     "execution_count": 22,
     "metadata": {},
     "output_type": "execute_result"
    },
    {
     "data": {
      "image/png": "[encoded data removed]",
      "text/plain": [
       "<Figure size 432x288 with 6 Axes>"
      ]
     },
     "metadata": {
      "needs_background": "light"
     },
     "output_type": "display_data"
    }
   ],
   "source": [
    "fig,axs = plt.subplots(1,6)\n",
    "vis.show_tuple(series,axs)"
   ]
  },
  {
   "cell_type": "markdown",
   "id": "contrary-grove",
   "metadata": {},
   "source": [
    "# Runs with history"
   ]
  },
  {
   "cell_type": "code",
   "execution_count": 26,
   "id": "lined-bearing",
   "metadata": {},
   "outputs": [
    {
     "data": {
      "text/plain": [
       "(<matplotlib.image.AxesImage at 0x7f704a050ac0>,\n",
       " <matplotlib.image.AxesImage at 0x7f7049f7f100>,\n",
       " <matplotlib.image.AxesImage at 0x7f7049f7fe80>,\n",
       " <matplotlib.image.AxesImage at 0x7f7049fc1ca0>,\n",
       " <matplotlib.image.AxesImage at 0x7f7049eddac0>)"
      ]
     },
     "execution_count": 26,
     "metadata": {},
     "output_type": "execute_result"
    },
    {
     "data": {
      "image/png": "[encoded data removed]",
      "text/plain": [
       "<Figure size 432x288 with 5 Axes>"
      ]
     },
     "metadata": {
      "needs_background": "light"
     },
     "output_type": "display_data"
    }
   ],
   "source": [
    "fig,axs = plt.subplots(1,5)\n",
    "vis.show_tuple(series,axs, True)"
   ]
  }
 ],
 "metadata": {
  "kernelspec": {
   "display_name": "Python 3",
   "language": "python",
   "name": "python3"
  },
  "language_info": {
   "codemirror_mode": {
    "name": "ipython",
    "version": 3
   },
   "file_extension": ".py",
   "mimetype": "text/x-python",
   "name": "python",
   "nbconvert_exporter": "python",
   "pygments_lexer": "ipython3",
   "version": "3.9.1"
  }
 },
 "nbformat": 4,
 "nbformat_minor": 5
}
